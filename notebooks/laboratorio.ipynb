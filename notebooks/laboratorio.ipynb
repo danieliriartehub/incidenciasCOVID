{
 "cells": [
  {
   "cell_type": "markdown",
   "metadata": {},
   "source": [
    "# Laboratorio 1.1 — COVID (JHU)\n",
    "\n",
    "Parte 1–2 resueltas sobre el daily 2022-04-18, y partes avanzadas (2–4) y series (3).\n"
   ]
  },
  {
   "cell_type": "code",
   "metadata": {},
   "source": [
    "import pandas as pd, numpy as np\n",
    "from dateutil import parser\n",
    "import matplotlib.pyplot as plt\n",
    "from datetime import datetime, timedelta\n",
    "import requests, io, os, math\n",
    "from scipy import stats\n",
    "from sklearn.preprocessing import StandardScaler\n",
    "from sklearn.decomposition import PCA\n",
    "from sklearn.cluster import KMeans\n",
    "import statsmodels.api as sm\n",
    "import pmdarima as pm\n",
    "plt.rcParams['figure.figsize'] = (10,5)"
   ],
   "execution_count": null,
   "outputs": []
  },
  {
   "cell_type": "markdown",
   "metadata": {},
   "source": [
    "## 1.1 Leer dataset (2022-04-18) y verificar\n",
    "- Mostrar primeras 10\n",
    "- Info general\n",
    "- Valores faltantes\n",
    "- Agregados por país y por país/provincia\n",
    "- Provincias de China ordenado por confirmados\n",
    "- Top-10 por confirmados\n",
    "- Top-10 por fallecidos + país con máximo y mínimo\n",
    "- Extraer aleatoriamente 50 filas, eliminar columnas 0,1,5,6,11 y guardar/leer Excel"
   ]
  },
  {
   "cell_type": "code",
   "metadata": {},
   "source": [
    "DATE_STR = '04-18-2022'\n",
    "URL = f\"https://raw.githubusercontent.com/CSSEGISandData/COVID-19/master/csse_covid_19_data/csse_covid_19_daily_reports/{DATE_STR}.csv\"\n",
    "raw = pd.read_csv(URL)\n",
    "rename_map = {\n",
    "    'Province/State':'Province_State','Country/Region':'Country_Region',\n",
    "    'Last Update':'Last_Update','Latitude':'Lat','Longitude':'Long_'\n",
    "}\n",
    "df = raw.rename(columns=rename_map).copy()\n",
    "df.head(10)"
   ],
   "execution_count": null,
   "outputs": []
  },
  {
   "cell_type": "code",
   "metadata": {},
   "source": [
    "df.info()\n",
    "df.isna().sum()"
   ],
   "execution_count": null,
   "outputs": []
  },
  {
   "cell_type": "code",
   "metadata": {},
   "source": [
    "# b) por país\n",
    "by_country = df.groupby('Country_Region', dropna=False).agg(\n",
    "    Confirmed=('Confirmed','sum'),Deaths=('Deaths','sum'),\n",
    "    Recovered=('Recovered','sum'),Active=('Active','sum')\n",
    ").reset_index()\n",
    "by_country.sort_values('Confirmed', ascending=False).head(10)"
   ],
   "execution_count": null,
   "outputs": []
  },
  {
   "cell_type": "code",
   "metadata": {},
   "source": [
    "# c) por país y provincia\n",
    "by_cp = df.groupby(['Country_Region','Province_State'], dropna=False).agg(\n",
    "    Confirmed=('Confirmed','sum'),Deaths=('Deaths','sum'),Recovered=('Recovered','sum')\n",
    ").reset_index()\n",
    "by_cp.head(10)"
   ],
   "execution_count": null,
   "outputs": []
  },
  {
   "cell_type": "code",
   "metadata": {},
   "source": [
    "# d) Provincias de China\n",
    "china = by_cp[by_cp['Country_Region']=='China'].sort_values('Confirmed', ascending=False)\n",
    "china.head(10)"
   ],
   "execution_count": null,
   "outputs": []
  },
  {
   "cell_type": "code",
   "metadata": {},
   "source": [
    "# e) Top-10 países por confirmados\n",
    "top_confirmed = by_country.nlargest(10, 'Confirmed')\n",
    "top_confirmed"
   ],
   "execution_count": null,
   "outputs": []
  },
  {
   "cell_type": "code",
   "metadata": {},
   "source": [
    "# f) Top-10 por fallecidos y extremos\n",
    "top_deaths = by_country.nlargest(10, 'Deaths')\n",
    "max_deaths = by_country.loc[by_country['Deaths'].idxmax()]\n",
    "min_deaths = by_country.loc[by_country['Deaths'].idxmin()]\n",
    "top_deaths, max_deaths[['Country_Region','Deaths']], min_deaths[['Country_Region','Deaths']]"
   ],
   "execution_count": null,
   "outputs": []
  },
  {
   "cell_type": "code",
   "metadata": {},
   "source": [
    "# g) Muestreo y drop de columnas 0,1,5,6,11\n",
    "sample50 = df.sample(50, random_state=42).copy()\n",
    "cols = sample50.columns.tolist()\n",
    "drop_idx = [0,1,5,6,11]\n",
    "drop_cols = [c for i,c in enumerate(cols) if i in drop_idx]\n",
    "sample50_clean = sample50.drop(columns=drop_cols, errors='ignore')\n",
    "os.makedirs('data/processed', exist_ok=True)\n",
    "path_xlsx = 'data/processed/sample50.xlsx'\n",
    "sample50_clean.to_excel(path_xlsx, index=False)\n",
    "pd.read_excel(path_xlsx).head()"
   ],
   "execution_count": null,
   "outputs": []
  },
  {
   "cell_type": "markdown",
   "metadata": {},
   "source": [
    "## 1.2 Visualizaciones\n",
    "a) Mostrar todas las filas (y luego restaurar).  \n",
    "b) Mostrar todas las columnas (y luego restaurar).  \n",
    "c) Gráfica de líneas: fallecidos, confirmados, recuperados, activos por país con fallecidos > 2500.  \n",
    "d) Barras: fallecidos por estados de EE.UU.  \n",
    "e) Pie: fallecidos de COL, CHL, PER, ARG, MEX.  \n",
    "f) Histograma: fallecidos por país.  \n",
    "g) Boxplot: Confirmed, Deaths, Recovered, Active.\n"
   ]
  },
  {
   "cell_type": "code",
   "metadata": {},
   "source": [
    "# a) todas las filas\n",
    "_old_max_rows = pd.get_option('display.max_rows')\n",
    "pd.set_option('display.max_rows', None)\n",
    "df\n",
    "pd.set_option('display.max_rows', _old_max_rows)\n",
    "\n",
    "# b) todas las columnas\n",
    "_old_max_cols = pd.get_option('display.max_columns')\n",
    "pd.set_option('display.max_columns', None)\n",
    "df.head(3)\n",
    "pd.set_option('display.max_columns', _old_max_cols)"
   ],
   "execution_count": null,
   "outputs": []
  },
  {
   "cell_type": "code",
   "metadata": {},
   "source": [
    "# c) líneas por país con muertes > 2500 (usando valores totales por país)\n",
    "thr = 2500\n",
    "big = by_country[by_country['Deaths']>thr]\n",
    "for col in ['Deaths','Confirmed','Recovered','Active']:\n",
    "    plt.figure()\n",
    "    plt.plot(big['Country_Region'], big[col])\n",
    "    plt.title(f'{col} por país (muertes>{thr})')\n",
    "    plt.xticks(rotation=90)\n",
    "    plt.tight_layout()\n",
    "    plt.show()"
   ],
   "execution_count": null,
   "outputs": []
  },
  {
   "cell_type": "code",
   "metadata": {},
   "source": [
    "# d) Barras: fallecidos por estados de EE.UU.\n",
    "us = by_cp[by_cp['Country_Region']=='US'].sort_values('Deaths', ascending=False)\n",
    "plt.figure(); plt.bar(us['Province_State'].astype(str).head(30), us['Deaths'].head(30));\n",
    "plt.title('Fallecidos por estado de EE.UU. (Top 30)'); plt.xticks(rotation=90); plt.tight_layout(); plt.show()"
   ],
   "execution_count": null,
   "outputs": []
  },
  {
   "cell_type": "code",
   "metadata": {},
   "source": [
    "# e) Pie países específicos\n",
    "paises = ['Colombia','Chile','Peru','Argentina','Mexico']\n",
    "sel = by_country[by_country['Country_Region'].isin(paises)][['Country_Region','Deaths']]\n",
    "plt.figure(); plt.pie(sel['Deaths'], labels=sel['Country_Region'], autopct='%1.1f%%'); plt.title('Fallecidos seleccionados'); plt.show()"
   ],
   "execution_count": null,
   "outputs": []
  },
  {
   "cell_type": "code",
   "metadata": {},
   "source": [
    "# f) Histograma de fallecidos por país\n",
    "plt.figure(); plt.hist(by_country['Deaths'], bins=30); plt.title('Histograma de fallecidos por país'); plt.show()\n",
    "\n",
    "# g) Boxplots\n",
    "plt.figure(); df[['Confirmed','Deaths','Recovered','Active']].plot(kind='box'); plt.title('Boxplots'); plt.show()"
   ],
   "execution_count": null,
   "outputs": []
  },
  {
   "cell_type": "markdown",
   "metadata": {},
   "source": [
    "## 2. Estadística avanzada\n",
    "- Métricas por país (CFR, tasas 100k)\n",
    "- IC Wilson (95%) para CFR\n",
    "- Test de dos proporciones entre dos países\n",
    "- Outliers por Z-score e IQR\n",
    "- Gráfico de control (3σ) de muertes diarias\n"
   ]
  },
  {
   "cell_type": "code",
   "metadata": {},
   "source": [
    "def country_metrics(dfx: pd.DataFrame) -> pd.DataFrame:\n",
    "    g = dfx.groupby('Country_Region', dropna=False).agg(\n",
    "        Confirmed=('Confirmed','sum'), Deaths=('Deaths','sum'),\n",
    "        Recovered=('Recovered','sum'), Active=('Active','sum'),\n",
    "        Incident_Rate=('Incident_Rate','mean'), CFR_mean=('Case_Fatality_Ratio','mean')\n",
    "    ).reset_index()\n",
    "    g['CFR'] = np.where(g['Confirmed']>0, g['Deaths']/g['Confirmed'], np.nan)\n",
    "    if 'Population' in dfx.columns and dfx['Population'].notna().any():\n",
    "        pop = dfx.groupby('Country_Region')['Population'].sum().rename('Population').reset_index()\n",
    "        g = g.merge(pop, on='Country_Region', how='left')\n",
    "        g['Confirmed_100k'] = g['Confirmed']/g['Population']*1e5\n",
    "        g['Deaths_100k'] = g['Deaths']/g['Population']*1e5\n",
    "    else:\n",
    "        g['Confirmed_100k'] = g['Incident_Rate']\n",
    "        g['Deaths_100k'] = g['CFR']*g['Confirmed_100k']\n",
    "    return g\n",
    "\n",
    "cm = country_metrics(df)\n",
    "cm.head()"
   ],
   "execution_count": null,
   "outputs": []
  },
  {
   "cell_type": "code",
   "metadata": {},
   "source": [
    "# IC Wilson (95%) para CFR\n",
    "def wilson_ci(D, C, z=1.96):\n",
    "    if C==0: return np.nan, np.nan, np.nan\n",
    "    p = D/C\n",
    "    denom = 1 + z**2/C\n",
    "    center = p + z**2/(2*C)\n",
    "    rad = z * math.sqrt(p*(1-p)/C + (z**2)/(4*C**2))\n",
    "    lo = (center - rad)/denom\n",
    "    hi = (center + rad)/denom\n",
    "    return p, lo, hi\n",
    "\n",
    "ci = cm.apply(lambda r: wilson_ci(r['Deaths'], r['Confirmed']), axis=1, result_type='expand')\n",
    "cm[['CFR','CFR_L','CFR_U']] = ci\n",
    "cm[['Country_Region','CFR','CFR_L','CFR_U']].head()"
   ],
   "execution_count": null,
   "outputs": []
  },
  {
   "cell_type": "code",
   "metadata": {},
   "source": [
    "# Test de dos proporciones (CFR) entre dos países\n",
    "def prop_test_2countries(cm, A='Peru', B='Chile'):\n",
    "    a = cm.loc[cm['Country_Region']==A, ['Confirmed','Deaths']].iloc[0]\n",
    "    b = cm.loc[cm['Country_Region']==B, ['Confirmed','Deaths']].iloc[0]\n",
    "    C1,D1 = int(a['Confirmed']), int(a['Deaths'])\n",
    "    C2,D2 = int(b['Confirmed']), int(b['Deaths'])\n",
    "    if C1==0 or C2==0:\n",
    "        return np.nan, np.nan\n",
    "    phat = (D1 + D2)/(C1 + C2)\n",
    "    z = (D1/C1 - D2/C2)/np.sqrt(phat*(1-phat)*(1/C1 + 1/C2))\n",
    "    pval = 2*(1 - stats.norm.cdf(abs(z)))\n",
    "    return z, pval\n",
    "\n",
    "prop_test_2countries(cm, 'Peru', 'Chile')"
   ],
   "execution_count": null,
   "outputs": []
  },
  {
   "cell_type": "code",
   "metadata": {},
   "source": [
    "# Outliers: Z-score e IQR\n",
    "def outliers_z(series):\n",
    "    z = (series - series.mean())/series.std(ddof=0)\n",
    "    return series.index[(z.abs()>3)].tolist()\n",
    "\n",
    "def outliers_iqr(series):\n",
    "    q1, q3 = series.quantile([0.25, 0.75])\n",
    "    iqr = q3 - q1\n",
    "    lo = q1 - 1.5*iqr\n",
    "    hi = q3 + 1.5*iqr\n",
    "    return series.index[(series<lo)|(series>hi)].tolist()\n",
    "\n",
    "for col in ['Confirmed_100k','Deaths_100k','CFR']:\n",
    "    z_out = outliers_z(cm[col].dropna())\n",
    "    iqr_out = outliers_iqr(cm[col].dropna())\n",
    "    print(col, 'Z-outliers:', len(z_out), 'IQR-outliers:', len(iqr_out))"
   ],
   "execution_count": null,
   "outputs": []
  },
  {
   "cell_type": "markdown",
   "metadata": {},
   "source": [
    "## 3. Series de tiempo y forecast\n",
    "Se arma una ventana histórica de daily reports para construir series por país y pronosticar **muertes** a 14 días (SARIMA)."
   ]
  },
  {
   "cell_type": "code",
   "metadata": {},
   "source": [
    "def load_daily(tag: str) -> pd.DataFrame:\n",
    "    url = f\"https://raw.githubusercontent.com/CSSEGISandData/COVID-19/master/csse_covid_19_data/csse_covid_19_daily_reports/{tag}.csv\"\n",
    "    x = pd.read_csv(url)\n",
    "    x = x.rename(columns={'Province/State':'Province_State','Country/Region':'Country_Region','Last Update':'Last_Update','Latitude':'Lat','Longitude':'Long_'})\n",
    "    return x\n",
    "\n",
    "def load_range(end_tag: str, days_back: int = 90) -> pd.DataFrame:\n",
    "    end = datetime.strptime(end_tag, '%m-%d-%Y')\n",
    "    frames = []\n",
    "    for i in range(days_back+1):\n",
    "        d = end - timedelta(days=i)\n",
    "        tag = d.strftime('%m-%d-%Y')\n",
    "        try:\n",
    "            df = load_daily(tag)\n",
    "            df['date'] = d.date()\n",
    "            frames.append(df)\n",
    "        except Exception:\n",
    "            pass\n",
    "    return pd.concat(frames, ignore_index=True) if frames else pd.DataFrame()\n",
    "\n",
    "hist = load_range(DATE_STR, 120)\n",
    "hist.head()"
   ],
   "execution_count": null,
   "outputs": []
  },
  {
   "cell_type": "code",
   "metadata": {},
   "source": [
    "# Serie de muertes diarias por país (agregado)\n",
    "def country_series(hist: pd.DataFrame, country: str) -> pd.Series:\n",
    "    ts = hist.groupby(['date','Country_Region'])['Deaths'].sum().reset_index()\n",
    "    y = ts.loc[ts['Country_Region']==country, ['date','Deaths']].set_index('date').sort_index()\n",
    "    y = y.asfreq('D').fillna(0)['Deaths']\n",
    "    return y\n",
    "\n",
    "y = country_series(hist, 'Peru')\n",
    "y_7 = y.rolling(7).mean()\n",
    "ax = y.plot(title='Peru - muertes diarias'); y_7.plot(ax=ax)\n",
    "plt.legend(['Deaths','7d MA']); plt.show()"
   ],
   "execution_count": null,
   "outputs": []
  },
  {
   "cell_type": "code",
   "metadata": {},
   "source": [
    "# SARIMA auto_arima + backtesting de 14 días\n",
    "if len(y) > 30:\n",
    "    model = pm.auto_arima(y, seasonal=False, stepwise=True, suppress_warnings=True)\n",
    "    fc, conf = model.predict(n_periods=14, return_conf_int=True)\n",
    "    idx_fc = pd.date_range(y.index.max() + pd.Timedelta(days=1), periods=14, freq='D')\n",
    "    plt.figure(); y.plot(); plt.plot(idx_fc, fc)\n",
    "    plt.fill_between(idx_fc, conf[:,0], conf[:,1], alpha=0.2)\n",
    "    plt.title('Pronóstico 14 días'); plt.show()\n",
    "\n",
    "    # backtesting\n",
    "    split = -14\n",
    "    train, test = y[:split], y[split:]\n",
    "    m = pm.auto_arima(train, seasonal=False, stepwise=True, suppress_warnings=True)\n",
    "    pred = pd.Series(m.predict(n_periods=len(test)), index=test.index)\n",
    "    mae = (test - pred).abs().mean()\n",
    "    mape = ((test - pred).abs()/(test.replace(0, np.nan))).mean()*100\n",
    "    print('MAE:', round(mae,2), 'MAPE:', round(mape,2),'%')\n",
    "else:\n",
    "    print('Serie insuficiente para modelado.')"
   ],
   "execution_count": null,
   "outputs": []
  },
  {
   "cell_type": "markdown",
   "metadata": {},
   "source": [
    "## 4. Clustering y PCA\n",
    "Variables: Confirmed_100k, Deaths_100k, CFR. K-means con k=3 por defecto; PCA a 2 componentes."
   ]
  },
  {
   "cell_type": "code",
   "metadata": {},
   "source": [
    "X = cm[['Confirmed_100k','Deaths_100k','CFR']].replace([np.inf,-np.inf], np.nan).dropna()\n",
    "idx = X.index\n",
    "Xs = StandardScaler().fit_transform(X)\n",
    "km = KMeans(n_clusters=3, n_init='auto', random_state=42)\n",
    "lab = km.fit_predict(Xs)\n",
    "pca = PCA(n_components=2, random_state=42)\n",
    "PC = pca.fit_transform(Xs)\n",
    "scatter = pd.DataFrame({'PC1':PC[:,0],'PC2':PC[:,1],'cluster':lab,'Country':cm.loc[idx,'Country_Region'].values})\n",
    "scatter.head()"
   ],
   "execution_count": null,
   "outputs": []
  },
  {
   "cell_type": "markdown",
   "metadata": {},
   "source": [
    "## 5. Gráfico de control (3σ)\n",
    "Aplicado a muertes diarias por país (ej. Peru)."
   ]
  },
  {
   "cell_type": "code",
   "metadata": {},
   "source": [
    "def control_chart(series: pd.Series, window=14):\n",
    "    roll = series.rolling(window)\n",
    "    mu, sigma = roll.mean(), roll.std().replace(0, np.nan)\n",
    "    cl = mu; ucl = mu + 3*sigma; lcl = (mu - 3*sigma).clip(lower=0)\n",
    "    ax = series.plot(label='Deaths'); cl.plot(ax=ax, label='CL'); ucl.plot(ax=ax, label='UCL'); lcl.plot(ax=ax, label='LCL')\n",
    "    plt.legend(); plt.title('Control chart (3σ)'); plt.show()\n",
    "\n",
    "control_chart(y)"
   ],
   "execution_count": null,
   "outputs": []
  }
 ],
 "metadata": {
  "kernelspec": {
   "display_name": "Python 3",
   "language": "python",
   "name": "python3"
  },
  "language_info": {
   "name": "python",
   "version": "3.10"
  }
 },
 "nbformat": 4,
 "nbformat_minor": 5
}
